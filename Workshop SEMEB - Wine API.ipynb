{
 "cells": [
  {
   "cell_type": "code",
   "execution_count": 1,
   "metadata": {},
   "outputs": [],
   "source": [
    "from flask import Flask, jsonify, request\n",
    "\n",
    "import joblib\n",
    "\n",
    "import numpy as np"
   ]
  },
  {
   "cell_type": "code",
   "execution_count": 2,
   "metadata": {},
   "outputs": [],
   "source": [
    "scaler = joblib.load('scaler.bin')"
   ]
  },
  {
   "cell_type": "code",
   "execution_count": 3,
   "metadata": {},
   "outputs": [
    {
     "data": {
      "text/plain": [
       "StandardScaler()"
      ]
     },
     "execution_count": 3,
     "metadata": {},
     "output_type": "execute_result"
    }
   ],
   "source": [
    "scaler"
   ]
  },
  {
   "cell_type": "code",
   "execution_count": 4,
   "metadata": {},
   "outputs": [
    {
     "data": {
      "text/plain": [
       "(array([ 8.34182955,  0.52656372,  0.27376857,  2.5336982 ,  0.08779515,\n",
       "        15.83189992, 46.08678655,  0.99676559,  3.31131353,  0.66017983,\n",
       "        10.44249414]),\n",
       " array([1.73498521e+00, 1.77755911e-01, 1.93449885e-01, 1.37438240e+00,\n",
       "        4.74537784e-02, 1.05220777e+01, 3.17704687e+01, 1.89463295e-03,\n",
       "        1.53272852e-01, 1.67877470e-01, 1.07743020e+00]))"
      ]
     },
     "execution_count": 4,
     "metadata": {},
     "output_type": "execute_result"
    }
   ],
   "source": [
    "scaler.mean_, scaler.scale_"
   ]
  },
  {
   "cell_type": "code",
   "execution_count": 5,
   "metadata": {},
   "outputs": [],
   "source": [
    "model = joblib.load('model.bin')"
   ]
  },
  {
   "cell_type": "code",
   "execution_count": 6,
   "metadata": {},
   "outputs": [
    {
     "data": {
      "text/plain": [
       "RandomForestClassifier(n_estimators=80, random_state=101)"
      ]
     },
     "execution_count": 6,
     "metadata": {},
     "output_type": "execute_result"
    }
   ],
   "source": [
    "model"
   ]
  },
  {
   "cell_type": "code",
   "execution_count": 7,
   "metadata": {},
   "outputs": [],
   "source": [
    "predict_results = []\n",
    "\n",
    "predict_results.append({ 'wine-quality': 0, 'data': [9.2, 0.52, 1.0, 3.4, 0.61, 32.0, 69.0, 0.9996, 2.74, 2.0, 9.4] })\n",
    "predict_results.append({ 'wine-quality': 0, 'data': [7.4, 0.66, 0.0, 1.8, 0.075, 13.0, 40.0, 0.9978, 3.51, 0.56, 9.4] })\n",
    "predict_results.append({ 'wine-quality': 0, 'data': [7.6, 0.51, 0.15, 2.8, 0.11, 33.0, 73.0, 0.9955, 3.17, 0.63, 10.2] })\n",
    "predict_results.append({ 'wine-quality': 1, 'data': [5.4, 0.835, 0.08, 1.2, 0.046, 13.0, 93.0, 0.9924, 3.57, 0.85, 13.0] })\n",
    "predict_results.append({ 'wine-quality': 1, 'data': [7.9, 0.35, 0.46, 3.6, 0.078, 15.0, 37.0, 0.9973, 3.35, 0.86, 12.8] })"
   ]
  },
  {
   "cell_type": "code",
   "execution_count": 8,
   "metadata": {},
   "outputs": [
    {
     "name": "stdout",
     "output_type": "stream",
     "text": [
      "Wine Quality: 0 | Wine Quality Predict: [0]\n",
      "Wine Quality: 0 | Wine Quality Predict: [0]\n",
      "Wine Quality: 0 | Wine Quality Predict: [0]\n",
      "Wine Quality: 1 | Wine Quality Predict: [1]\n",
      "Wine Quality: 1 | Wine Quality Predict: [1]\n"
     ]
    }
   ],
   "source": [
    "for predict_result in predict_results:\n",
    "    data = np.array([predict_result['data']])\n",
    "    data = scaler.transform(data)\n",
    "    result = model.predict(data)\n",
    "    \n",
    "    print(f'Wine Quality: {predict_result[\"wine-quality\"]} | Wine Quality Predict: {result}')"
   ]
  },
  {
   "cell_type": "markdown",
   "metadata": {},
   "source": [
    "---"
   ]
  },
  {
   "cell_type": "markdown",
   "metadata": {},
   "source": [
    "### Flask Wine API"
   ]
  },
  {
   "cell_type": "code",
   "execution_count": 9,
   "metadata": {},
   "outputs": [
    {
     "name": "stdout",
     "output_type": "stream",
     "text": [
      " * Serving Flask app \"__main__\" (lazy loading)\n",
      " * Environment: production\n",
      "   WARNING: This is a development server. Do not use it in a production deployment.\n",
      "   Use a production WSGI server instead.\n",
      " * Debug mode: off\n"
     ]
    },
    {
     "name": "stderr",
     "output_type": "stream",
     "text": [
      " * Running on http://127.0.0.1:8080/ (Press CTRL+C to quit)\n"
     ]
    }
   ],
   "source": [
    "app = Flask(__name__)\n",
    "\n",
    "@app.route('/wine/predict', methods=['POST'])\n",
    "def predict():\n",
    "    data = np.array([request.json['data']])\n",
    "    data = scaler.transform(data)\n",
    "    result = model.predict(data)\n",
    "    \n",
    "    return jsonify({'prediction': result.tolist()})\n",
    "\n",
    "if __name__ == '__main__':\n",
    "    app.run(debug=False, port=8080)"
   ]
  },
  {
   "cell_type": "code",
   "execution_count": null,
   "metadata": {},
   "outputs": [],
   "source": []
  }
 ],
 "metadata": {
  "kernelspec": {
   "display_name": "Python 3",
   "language": "python",
   "name": "python3"
  },
  "language_info": {
   "codemirror_mode": {
    "name": "ipython",
    "version": 3
   },
   "file_extension": ".py",
   "mimetype": "text/x-python",
   "name": "python",
   "nbconvert_exporter": "python",
   "pygments_lexer": "ipython3",
   "version": "3.8.5"
  }
 },
 "nbformat": 4,
 "nbformat_minor": 4
}
